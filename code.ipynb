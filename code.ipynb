{
 "cells": [
  {
   "cell_type": "code",
   "execution_count": 10,
   "metadata": {},
   "outputs": [
    {
     "data": {
      "text/plain": [
       "True"
      ]
     },
     "execution_count": 10,
     "metadata": {},
     "output_type": "execute_result"
    }
   ],
   "source": [
    "from dotenv import load_dotenv\n",
    "import base64\n",
    "from langchain_openai import ChatOpenAI\n",
    "from langchain.schema.messages import HumanMessage, AIMessage\n",
    "load_dotenv() "
   ]
  },
  {
   "cell_type": "code",
   "execution_count": 11,
   "metadata": {},
   "outputs": [],
   "source": [
    "def encode_image(image_path):\n",
    "    with open(image_path, \"rb\") as image_file:\n",
    "        return base64.b64encode(image_file.read()).decode('utf-8')"
   ]
  },
  {
   "cell_type": "code",
   "execution_count": 23,
   "metadata": {},
   "outputs": [],
   "source": [
    "chain1 = ChatOpenAI(model=\"gpt-4-vision-preview\", max_tokens=1024)"
   ]
  },
  {
   "cell_type": "code",
   "execution_count": 31,
   "metadata": {},
   "outputs": [
    {
     "name": "stdout",
     "output_type": "stream",
     "text": [
      "content='The image is of low resolution and shows what appears to be a baked good, likely a muffin or a similar pastry with blueberries. The focus is on a specific area of the pastry, highlighting the golden-brown surface and the blueberries, which are likely meant to be the main ingredients visible. The image is too blurry to provide more detailed information, but it generally gives the impression of a blueberry muffin or pastry.'\n"
     ]
    }
   ],
   "source": [
    "image = encode_image(\"./chihuahuaOrMuffin2.jpg\")\n",
    "\n",
    "msg = chain1.invoke(\n",
    "    [   AIMessage(\n",
    "            content=\"You are a useful bot that is especially good at summarizing images\"\n",
    "        ),\n",
    "        HumanMessage(\n",
    "            content=[\n",
    "                {\"type\": \"text\", \"text\": \"Characterize the image using a well-detailed description\"},\n",
    "                {\n",
    "                    \"type\": \"image_url\",\n",
    "                    \"image_url\": {\n",
    "                        \"url\": f\"data:image/jpg;base64,{image}\"\n",
    "                    },\n",
    "                },\n",
    "            ]\n",
    "        )\n",
    "    ]\n",
    ")\n",
    "\n",
    "print(msg)"
   ]
  },
  {
   "cell_type": "code",
   "execution_count": null,
   "metadata": {},
   "outputs": [],
   "source": [
    "chain2 = ChatOpenAI(model=\"gpt-4-vision-preview\", max_tokens=1024)"
   ]
  },
  {
   "cell_type": "code",
   "execution_count": 32,
   "metadata": {},
   "outputs": [
    {
     "name": "stdout",
     "output_type": "stream",
     "text": [
      "content='muffin'\n"
     ]
    }
   ],
   "source": [
    "classes = ['chihuahua', 'muffin']\n",
    "\n",
    "humanMessageOrder = f'''I will give you an image and a text. The text is the descriptin of the image. \n",
    "Please identify if this is one of the following classes: \n",
    "{','.join(classes)}\n",
    "Only return the name of the class. No additional explanation or anything related. Just the name.\n",
    "\n",
    "Example:\n",
    "''' + \"'\" + \"'\\n'\".join(classes) + \"'\" \n",
    "\n",
    "newMsg = chain2.invoke(\n",
    "    [   AIMessage(\n",
    "            content=\"You are a useful bot that is especially good at classifing images when the image and text is given\"\n",
    "        ),\n",
    "        HumanMessage(\n",
    "            content=[\n",
    "                {\"type\": \"text\", \"text\": humanMessageOrder},\n",
    "                {\n",
    "                    \"type\": \"image_url\",\n",
    "                    \"image_url\": {\n",
    "                        \"url\": f\"data:image/jpg;base64,{image}\"\n",
    "                    },\n",
    "                },\n",
    "                {\"type\": \"text\", \"text\": msg.content}\n",
    "            ]\n",
    "        )\n",
    "    ]\n",
    ")\n",
    "\n",
    "print(newMsg)"
   ]
  }
 ],
 "metadata": {
  "kernelspec": {
   "display_name": "base",
   "language": "python",
   "name": "python3"
  },
  "language_info": {
   "codemirror_mode": {
    "name": "ipython",
    "version": 3
   },
   "file_extension": ".py",
   "mimetype": "text/x-python",
   "name": "python",
   "nbconvert_exporter": "python",
   "pygments_lexer": "ipython3",
   "version": "3.10.9"
  }
 },
 "nbformat": 4,
 "nbformat_minor": 2
}
